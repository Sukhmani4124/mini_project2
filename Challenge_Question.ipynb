{
  "nbformat": 4,
  "nbformat_minor": 0,
  "metadata": {
    "colab": {
      "provenance": [],
      "authorship_tag": "ABX9TyPLIzuEZg2TRK2Ryq0/J9he",
      "include_colab_link": true
    },
    "kernelspec": {
      "name": "python3",
      "display_name": "Python 3"
    },
    "language_info": {
      "name": "python"
    }
  },
  "cells": [
    {
      "cell_type": "markdown",
      "metadata": {
        "id": "view-in-github",
        "colab_type": "text"
      },
      "source": [
        "<a href=\"https://colab.research.google.com/github/Sukhmani4124/mini_project2/blob/main/Challenge_Question.ipynb\" target=\"_parent\"><img src=\"https://colab.research.google.com/assets/colab-badge.svg\" alt=\"Open In Colab\"/></a>"
      ]
    },
    {
      "cell_type": "code",
      "execution_count": 1,
      "metadata": {
        "colab": {
          "base_uri": "https://localhost:8080/"
        },
        "id": "WgJ4IRtRdUyq",
        "outputId": "16dbfeed-cfa6-4747-a4e4-9c3f2d8d014e"
      },
      "outputs": [
        {
          "output_type": "stream",
          "name": "stdout",
          "text": [
            "['ram', '1', 'Sham', '2', 'aman', '3']\n",
            "['1', '2', '3', 'Sham', 'aman', 'ram']\n"
          ]
        }
      ],
      "source": [
        "L = [\"ram\", 1, \"Sham\", 2, \"aman\", 3]\n",
        "L = [str(x) for x in L]\n",
        "print(L)\n",
        "L.sort()\n",
        "print(L)"
      ]
    }
  ]
}